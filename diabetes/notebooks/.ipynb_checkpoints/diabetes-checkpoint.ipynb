{
 "cells": [
  {
   "cell_type": "markdown",
   "metadata": {
    "id": "N0pxG0v4p5UO"
   },
   "source": [
    "# Projekt"
   ]
  },
  {
   "cell_type": "markdown",
   "metadata": {
    "id": "kixqmzs_p5UQ"
   },
   "source": [
    "### 1. Import bibliotek"
   ]
  },
  {
   "cell_type": "code",
   "execution_count": null,
   "metadata": {
    "id": "NhJZOyuGp5UR"
   },
   "outputs": [],
   "source": [
    "import pandas as pd \n",
    "import seaborn as sns\n",
    "import matplotlib.pyplot as plt\n",
    "from sklearn.model_selection import train_test_split\n",
    "from sklearn.linear_model import LogisticRegression\n",
    "from sklearn.metrics import classification_report\n",
    "from sklearn.metrics import confusion_matrix\n",
    "from sklearn.preprocessing import StandardScaler\n"
   ]
  },
  {
   "cell_type": "markdown",
   "metadata": {
    "id": "htBTmOF0p5UT"
   },
   "source": [
    "### 2. Przygotowanie danych do analizy"
   ]
  },
  {
   "cell_type": "code",
   "execution_count": null,
   "metadata": {
    "id": "eOolmtABp5UW"
   },
   "outputs": [],
   "source": [
    "data = pd.read_csv('data/diabetes.csv')"
   ]
  },
  {
   "cell_type": "code",
   "execution_count": 1,
   "metadata": {},
   "outputs": [],
   "source": [
    "from pathlib import Path"
   ]
  },
  {
   "cell_type": "code",
   "execution_count": 2,
   "metadata": {},
   "outputs": [
    {
     "data": {
      "text/plain": [
       "WindowsPath('data/diabetes.csv')"
      ]
     },
     "execution_count": 2,
     "metadata": {},
     "output_type": "execute_result"
    }
   ],
   "source": [
    "Path() / \"data\" / \"diabetes.csv\""
   ]
  },
  {
   "cell_type": "markdown",
   "metadata": {
    "id": "FQo-Jdjip5UZ"
   },
   "source": [
    "#### 2.1. Brakujące wartości"
   ]
  },
  {
   "cell_type": "code",
   "execution_count": null,
   "metadata": {
    "colab": {
     "base_uri": "https://localhost:8080/"
    },
    "id": "OWymGvUzp5UZ",
    "outputId": "add9aca9-3d5f-47bf-eeee-b264f801a7e3"
   },
   "outputs": [],
   "source": [
    "print(data.head())\n",
    "print(data.isnull().any())\n",
    "print(\"Number of 0's for Glucose:\", data['Glucose'].isin([0]).sum())\n",
    "print(\"Number of 0's for Blood Pressure:\", data['BloodPressure'].isin([0]).sum())\n",
    "print(\"Number of 0's for Skin Thickness:\", data['SkinThickness'].isin([0]).sum())\n",
    "print(\"Number of 0's for Insulin:\", data['Insulin'].isin([0]).sum())\n",
    "print(\"Number of 0's for BMI:\", data['BMI'].isin([0]).sum())\n",
    "\n",
    "data['Glucose'] = data['Glucose'].replace(0,data['Glucose'].mean())\n",
    "data['BloodPressure'] = data['BloodPressure'].replace(0,data['BloodPressure'].mean())\n",
    "data['SkinThickness'] = data['SkinThickness'].replace(0,data['SkinThickness'].mean())\n",
    "data['Insulin'] = data['Insulin'].replace(0,data['Insulin'].mean())\n",
    "data['BMI'] = data['BMI'].replace(0,data['BMI'].mean())\n",
    "\n",
    "print(data.describe())"
   ]
  },
  {
   "cell_type": "markdown",
   "metadata": {
    "id": "WOroIZ52p5xH"
   },
   "source": [
    "#### 2.2 Eksploaracja danych"
   ]
  },
  {
   "cell_type": "code",
   "execution_count": null,
   "metadata": {
    "colab": {
     "base_uri": "https://localhost:8080/",
     "height": 390
    },
    "id": "5yQaZ2N8p9_Y",
    "outputId": "8a54eb95-45cd-44aa-cf0e-a340acaaf0c2"
   },
   "outputs": [],
   "source": [
    "sns.heatmap(data.corr(), annot=True)\n",
    "plt.show()\n"
   ]
  },
  {
   "cell_type": "markdown",
   "metadata": {
    "id": "IQ6zNwaJp5Uc"
   },
   "source": [
    "### 3. Regresja logistyczna"
   ]
  },
  {
   "cell_type": "code",
   "execution_count": null,
   "metadata": {
    "id": "oV1cY_Sgt4U1"
   },
   "outputs": [],
   "source": [
    "x = data.drop('Outcome',axis=1)\n",
    "y = data['Outcome']\n",
    "\n",
    "x_train,x_test,y_train,y_test = train_test_split(x,y,test_size=0.1,random_state=101)\n",
    "\n",
    "sc = StandardScaler()\n",
    "x_train = sc.fit_transform(x_train)\n",
    "x_test = sc.transform(x_test)\n",
    "\n",
    "model = LogisticRegression()\n",
    "model.fit(x_train,y_train)\n",
    "predictions = model.predict(x_test)\n",
    "\n"
   ]
  },
  {
   "cell_type": "markdown",
   "metadata": {
    "id": "1swJ3-nco4J4"
   },
   "source": [
    "### 4. Ewaluacja modelu"
   ]
  },
  {
   "cell_type": "code",
   "execution_count": null,
   "metadata": {
    "colab": {
     "base_uri": "https://localhost:8080/"
    },
    "id": "dpXK6O6so8t6",
    "outputId": "421d3a62-68fe-41fb-b8d0-7d11fd6b6b5d"
   },
   "outputs": [],
   "source": [
    "print(classification_report(y_test,predictions))\n",
    "print(confusion_matrix(y_test,predictions))\n"
   ]
  },
  {
   "cell_type": "markdown",
   "metadata": {
    "id": "azsiTgbmtxfe"
   },
   "source": [
    "### Całość"
   ]
  },
  {
   "cell_type": "code",
   "execution_count": null,
   "metadata": {
    "colab": {
     "base_uri": "https://localhost:8080/",
     "height": 1000
    },
    "id": "27ZkYnrtp5Uc",
    "outputId": "834332b2-85b6-4638-dbcf-e84aa2298e2d"
   },
   "outputs": [],
   "source": [
    "import numpy as np \n",
    "import pandas as pd \n",
    "import seaborn as sns\n",
    "import matplotlib.pyplot as plt\n",
    "from sklearn.model_selection import train_test_split\n",
    "from sklearn.linear_model import LogisticRegression\n",
    "from sklearn.metrics import classification_report\n",
    "from sklearn.metrics import confusion_matrix\n",
    "from sklearn.preprocessing import StandardScaler\n",
    "\n",
    "data = pd.read_csv('https://raw.githubusercontent.com/ngondek/Stock-Price-Prediction/main/diabetes2.csv')\n",
    "\n",
    "print(data.head())\n",
    "print(data.isnull().any())\n",
    "print(\"Number of 0's for Glucose:\", data['Glucose'].isin([0]).sum())\n",
    "print(\"Number of 0's for Blood Pressure:\", data['BloodPressure'].isin([0]).sum())\n",
    "print(\"Number of 0's for Skin Thickness:\", data['SkinThickness'].isin([0]).sum())\n",
    "print(\"Number of 0's for Insulin:\", data['Insulin'].isin([0]).sum())\n",
    "print(\"Number of 0's for BMI:\", data['BMI'].isin([0]).sum())\n",
    "\n",
    "data['Glucose'] = data['Glucose'].replace(0,data['Glucose'].mean())\n",
    "data['BloodPressure'] = data['BloodPressure'].replace(0,data['BloodPressure'].mean())\n",
    "data['SkinThickness'] = data['SkinThickness'].replace(0,data['SkinThickness'].mean())\n",
    "data['Insulin'] = data['Insulin'].replace(0,data['Insulin'].mean())\n",
    "data['BMI'] = data['BMI'].replace(0,data['BMI'].mean())\n",
    "\n",
    "print(data.describe())\n",
    "\n",
    "sns.heatmap(data.corr(), annot=True)\n",
    "plt.show()\n",
    "\n",
    "x = data.drop('Outcome',axis=1)\n",
    "y = data['Outcome']\n",
    "\n",
    "x_train,x_test,y_train,y_test = train_test_split(x,y,test_size=0.1,random_state=101)\n",
    "\n",
    "sc = StandardScaler()\n",
    "x_train = sc.fit_transform(x_train)\n",
    "x_test = sc.transform(x_test)\n",
    "\n",
    "model = LogisticRegression()\n",
    "model.fit(x_train,y_train)\n",
    "predictions = model.predict(x_test)\n",
    "\n",
    "print(predictions)\n",
    "print(classification_report(y_test,predictions))\n",
    "print(confusion_matrix(y_test,predictions))\n",
    "\n",
    "\n"
   ]
  },
  {
   "cell_type": "code",
   "execution_count": null,
   "metadata": {},
   "outputs": [],
   "source": []
  }
 ],
 "metadata": {
  "colab": {
   "collapsed_sections": [
    "kixqmzs_p5UQ",
    "htBTmOF0p5UT",
    "FQo-Jdjip5UZ",
    "WOroIZ52p5xH",
    "IQ6zNwaJp5Uc",
    "1swJ3-nco4J4",
    "azsiTgbmtxfe"
   ],
   "provenance": [],
   "toc_visible": true
  },
  "kernelspec": {
   "display_name": "Python 3 (ipykernel)",
   "language": "python",
   "name": "python3"
  },
  "language_info": {
   "codemirror_mode": {
    "name": "ipython",
    "version": 3
   },
   "file_extension": ".py",
   "mimetype": "text/x-python",
   "name": "python",
   "nbconvert_exporter": "python",
   "pygments_lexer": "ipython3",
   "version": "3.8.13"
  }
 },
 "nbformat": 4,
 "nbformat_minor": 4
}
